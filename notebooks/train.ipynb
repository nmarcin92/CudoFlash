{
 "cells": [
  {
   "cell_type": "code",
   "execution_count": 11,
   "metadata": {
    "collapsed": true
   },
   "outputs": [
    {
     "data": {
      "text/plain": "                     pow_dyst  zaw_tle  pre_dmu    str_lac         sec\nCzas                                                                  \n2021-04-19 00:00:00    2700.0     81.0     50.0  23.298206  1618790400\n2021-04-19 00:00:01    2700.0     81.0     50.0  23.303154  1618790401\n2021-04-19 00:00:02    2700.0     81.0     50.0  23.308102  1618790402\n2021-04-19 00:00:03    2700.0     81.0     50.0  23.313053  1618790403\n2021-04-19 00:00:04    2700.0     81.0     50.0  23.318001  1618790404\n...                       ...      ...      ...        ...         ...\n2021-04-29 23:59:55    2700.0     81.0     45.0  23.419621  1619740795\n2021-04-29 23:59:56    2700.0     81.0     45.0  23.417660  1619740796\n2021-04-29 23:59:57    2700.0     81.0     45.0  23.415703  1619740797\n2021-04-29 23:59:58    2700.0     81.0     45.0  23.413742  1619740798\n2021-04-29 23:59:59    2700.0     81.0     45.0  23.411781  1619740799\n\n[950400 rows x 5 columns]",
      "text/html": "<div>\n<style scoped>\n    .dataframe tbody tr th:only-of-type {\n        vertical-align: middle;\n    }\n\n    .dataframe tbody tr th {\n        vertical-align: top;\n    }\n\n    .dataframe thead th {\n        text-align: right;\n    }\n</style>\n<table border=\"1\" class=\"dataframe\">\n  <thead>\n    <tr style=\"text-align: right;\">\n      <th></th>\n      <th>pow_dyst</th>\n      <th>zaw_tle</th>\n      <th>pre_dmu</th>\n      <th>str_lac</th>\n      <th>sec</th>\n    </tr>\n    <tr>\n      <th>Czas</th>\n      <th></th>\n      <th></th>\n      <th></th>\n      <th></th>\n      <th></th>\n    </tr>\n  </thead>\n  <tbody>\n    <tr>\n      <th>2021-04-19 00:00:00</th>\n      <td>2700.0</td>\n      <td>81.0</td>\n      <td>50.0</td>\n      <td>23.298206</td>\n      <td>1618790400</td>\n    </tr>\n    <tr>\n      <th>2021-04-19 00:00:01</th>\n      <td>2700.0</td>\n      <td>81.0</td>\n      <td>50.0</td>\n      <td>23.303154</td>\n      <td>1618790401</td>\n    </tr>\n    <tr>\n      <th>2021-04-19 00:00:02</th>\n      <td>2700.0</td>\n      <td>81.0</td>\n      <td>50.0</td>\n      <td>23.308102</td>\n      <td>1618790402</td>\n    </tr>\n    <tr>\n      <th>2021-04-19 00:00:03</th>\n      <td>2700.0</td>\n      <td>81.0</td>\n      <td>50.0</td>\n      <td>23.313053</td>\n      <td>1618790403</td>\n    </tr>\n    <tr>\n      <th>2021-04-19 00:00:04</th>\n      <td>2700.0</td>\n      <td>81.0</td>\n      <td>50.0</td>\n      <td>23.318001</td>\n      <td>1618790404</td>\n    </tr>\n    <tr>\n      <th>...</th>\n      <td>...</td>\n      <td>...</td>\n      <td>...</td>\n      <td>...</td>\n      <td>...</td>\n    </tr>\n    <tr>\n      <th>2021-04-29 23:59:55</th>\n      <td>2700.0</td>\n      <td>81.0</td>\n      <td>45.0</td>\n      <td>23.419621</td>\n      <td>1619740795</td>\n    </tr>\n    <tr>\n      <th>2021-04-29 23:59:56</th>\n      <td>2700.0</td>\n      <td>81.0</td>\n      <td>45.0</td>\n      <td>23.417660</td>\n      <td>1619740796</td>\n    </tr>\n    <tr>\n      <th>2021-04-29 23:59:57</th>\n      <td>2700.0</td>\n      <td>81.0</td>\n      <td>45.0</td>\n      <td>23.415703</td>\n      <td>1619740797</td>\n    </tr>\n    <tr>\n      <th>2021-04-29 23:59:58</th>\n      <td>2700.0</td>\n      <td>81.0</td>\n      <td>45.0</td>\n      <td>23.413742</td>\n      <td>1619740798</td>\n    </tr>\n    <tr>\n      <th>2021-04-29 23:59:59</th>\n      <td>2700.0</td>\n      <td>81.0</td>\n      <td>45.0</td>\n      <td>23.411781</td>\n      <td>1619740799</td>\n    </tr>\n  </tbody>\n</table>\n<p>950400 rows × 5 columns</p>\n</div>"
     },
     "execution_count": 11,
     "metadata": {},
     "output_type": "execute_result"
    }
   ],
   "source": [
    "import os\n",
    "import pandas as pd\n",
    "import datetime\n",
    "import numpy as np\n",
    "\n",
    "path = \"/home/mnowak/Downloads/piec/data_2021-04-19.csv\"\n",
    "\n",
    "data = pd.read_csv(path).drop(columns=['Unnamed: 0'])\n",
    "data['Czas'] = pd.to_datetime(data['Czas'])\n",
    "data[\"sec\"] = data['Czas'].astype(np.int64) // 10**9\n",
    "data = data.set_index('Czas')\n",
    "\n",
    "data = data.drop(columns=[\"Nadawa_pylow\", 'Strata_pasa', 'S600', 'S500', 'S00',\n",
    "       'S100', 'Nadawa_koncentratu', 'Nadawa_1', 'Nadawa_2', 'Tlen_lanca',\n",
    "       'Tlen_procesowe', 'Powietrze_procesowe', 'Przetlenienie',\n",
    "       'Zawartosc_wegla', 'Zawartosc_siarki', 'Udzial_nadziarna',\n",
    "       'Udzial_podziarna', 'Poziom_topu', 'Kat_dystrybucji',\n",
    "       'Straty_odstojnika', 'Temperatura_zuzla', 'Drgania_kotla'])\n",
    "\n",
    "data = data.rename(columns={\"Powietrze_dystrybucyjne\": \"pow_dyst\",\n",
    "             \"Zawartosc_tlenu\": \"zaw_tle\",\n",
    "             \"Predkosc_dmuchu\": \"pre_dmu\",\n",
    "             \"Strata_laczna\": \"str_lac\"\n",
    "             })\n",
    "\n",
    "data"
   ]
  },
  {
   "cell_type": "code",
   "execution_count": 12,
   "outputs": [
    {
     "data": {
      "text/plain": "                     pow_dyst  zaw_tle   pre_dmu   str_lac         sec  \\\nCzas                                                                     \n2021-04-19 00:00:00       0.5      1.0  0.333333  0.553214  1618790400   \n2021-04-19 00:00:01       0.5      1.0  0.333333  0.553544  1618790401   \n2021-04-19 00:00:02       0.5      1.0  0.333333  0.553873  1618790402   \n2021-04-19 00:00:03       0.5      1.0  0.333333  0.554204  1618790403   \n2021-04-19 00:00:04       0.5      1.0  0.333333  0.554533  1618790404   \n...                       ...      ...       ...       ...         ...   \n2021-04-29 23:59:55       0.5      1.0  0.166667  0.561308  1619740795   \n2021-04-29 23:59:56       0.5      1.0  0.166667  0.561177  1619740796   \n2021-04-29 23:59:57       0.5      1.0  0.166667  0.561047  1619740797   \n2021-04-29 23:59:58       0.5      1.0  0.166667  0.560916  1619740798   \n2021-04-29 23:59:59       0.5      1.0  0.166667  0.560785  1619740799   \n\n                     str_lac_sh  \nCzas                             \n2021-04-19 00:00:00    0.443324  \n2021-04-19 00:00:01    0.443362  \n2021-04-19 00:00:02    0.443399  \n2021-04-19 00:00:03    0.443437  \n2021-04-19 00:00:04    0.443453  \n...                         ...  \n2021-04-29 23:59:55         NaN  \n2021-04-29 23:59:56         NaN  \n2021-04-29 23:59:57         NaN  \n2021-04-29 23:59:58         NaN  \n2021-04-29 23:59:59         NaN  \n\n[950400 rows x 6 columns]",
      "text/html": "<div>\n<style scoped>\n    .dataframe tbody tr th:only-of-type {\n        vertical-align: middle;\n    }\n\n    .dataframe tbody tr th {\n        vertical-align: top;\n    }\n\n    .dataframe thead th {\n        text-align: right;\n    }\n</style>\n<table border=\"1\" class=\"dataframe\">\n  <thead>\n    <tr style=\"text-align: right;\">\n      <th></th>\n      <th>pow_dyst</th>\n      <th>zaw_tle</th>\n      <th>pre_dmu</th>\n      <th>str_lac</th>\n      <th>sec</th>\n      <th>str_lac_sh</th>\n    </tr>\n    <tr>\n      <th>Czas</th>\n      <th></th>\n      <th></th>\n      <th></th>\n      <th></th>\n      <th></th>\n      <th></th>\n    </tr>\n  </thead>\n  <tbody>\n    <tr>\n      <th>2021-04-19 00:00:00</th>\n      <td>0.5</td>\n      <td>1.0</td>\n      <td>0.333333</td>\n      <td>0.553214</td>\n      <td>1618790400</td>\n      <td>0.443324</td>\n    </tr>\n    <tr>\n      <th>2021-04-19 00:00:01</th>\n      <td>0.5</td>\n      <td>1.0</td>\n      <td>0.333333</td>\n      <td>0.553544</td>\n      <td>1618790401</td>\n      <td>0.443362</td>\n    </tr>\n    <tr>\n      <th>2021-04-19 00:00:02</th>\n      <td>0.5</td>\n      <td>1.0</td>\n      <td>0.333333</td>\n      <td>0.553873</td>\n      <td>1618790402</td>\n      <td>0.443399</td>\n    </tr>\n    <tr>\n      <th>2021-04-19 00:00:03</th>\n      <td>0.5</td>\n      <td>1.0</td>\n      <td>0.333333</td>\n      <td>0.554204</td>\n      <td>1618790403</td>\n      <td>0.443437</td>\n    </tr>\n    <tr>\n      <th>2021-04-19 00:00:04</th>\n      <td>0.5</td>\n      <td>1.0</td>\n      <td>0.333333</td>\n      <td>0.554533</td>\n      <td>1618790404</td>\n      <td>0.443453</td>\n    </tr>\n    <tr>\n      <th>...</th>\n      <td>...</td>\n      <td>...</td>\n      <td>...</td>\n      <td>...</td>\n      <td>...</td>\n      <td>...</td>\n    </tr>\n    <tr>\n      <th>2021-04-29 23:59:55</th>\n      <td>0.5</td>\n      <td>1.0</td>\n      <td>0.166667</td>\n      <td>0.561308</td>\n      <td>1619740795</td>\n      <td>NaN</td>\n    </tr>\n    <tr>\n      <th>2021-04-29 23:59:56</th>\n      <td>0.5</td>\n      <td>1.0</td>\n      <td>0.166667</td>\n      <td>0.561177</td>\n      <td>1619740796</td>\n      <td>NaN</td>\n    </tr>\n    <tr>\n      <th>2021-04-29 23:59:57</th>\n      <td>0.5</td>\n      <td>1.0</td>\n      <td>0.166667</td>\n      <td>0.561047</td>\n      <td>1619740797</td>\n      <td>NaN</td>\n    </tr>\n    <tr>\n      <th>2021-04-29 23:59:58</th>\n      <td>0.5</td>\n      <td>1.0</td>\n      <td>0.166667</td>\n      <td>0.560916</td>\n      <td>1619740798</td>\n      <td>NaN</td>\n    </tr>\n    <tr>\n      <th>2021-04-29 23:59:59</th>\n      <td>0.5</td>\n      <td>1.0</td>\n      <td>0.166667</td>\n      <td>0.560785</td>\n      <td>1619740799</td>\n      <td>NaN</td>\n    </tr>\n  </tbody>\n</table>\n<p>950400 rows × 6 columns</p>\n</div>"
     },
     "execution_count": 12,
     "metadata": {},
     "output_type": "execute_result"
    }
   ],
   "source": [
    "# Normalizacja\n",
    "POW_DYST_NORM = {\"min\": 1900.,\"max\": 3500.}\n",
    "ZAW_TLE_NORM = {\"min\": 65., \"max\": 81.}\n",
    "PRE_DMU = { \"min\": 40.,\"max\": 70.}\n",
    "STR_LAC = { \"min\": 15.,\"max\": 30.}\n",
    "\n",
    "df = data.copy()\n",
    "df[\"pow_dyst\"] = (df[\"pow_dyst\"] - POW_DYST_NORM[\"min\"]) / (POW_DYST_NORM[\"max\"] - POW_DYST_NORM[\"min\"])\n",
    "df[\"zaw_tle\"] = (df[\"zaw_tle\"] - ZAW_TLE_NORM[\"min\"]) / (ZAW_TLE_NORM[\"max\"] - ZAW_TLE_NORM[\"min\"])\n",
    "df[\"pre_dmu\"] = (df[\"pre_dmu\"] - PRE_DMU[\"min\"]) / (PRE_DMU[\"max\"] - PRE_DMU[\"min\"])\n",
    "df[\"str_lac\"] = (df[\"str_lac\"] - STR_LAC[\"min\"]) / (STR_LAC[\"max\"] - STR_LAC[\"min\"])\n",
    "df[\"str_lac_sh\"] = df[\"str_lac\"].shift(-1000)\n",
    "\n",
    "\n",
    "df"
   ],
   "metadata": {
    "collapsed": false,
    "pycharm": {
     "name": "#%%\n"
    }
   }
  },
  {
   "cell_type": "code",
   "execution_count": 13,
   "outputs": [
    {
     "name": "stderr",
     "output_type": "stream",
     "text": [
      "warning: PYDEVD_USE_CYTHON environment variable is set to 'NO'. Frame evaluator will be also disabled because it requires Cython extensions to be enabled in order to operate correctly.\n"
     ]
    }
   ],
   "source": [
    "# Filtrowanie\n",
    "df = df.loc[:\"2021-04-29 04:00:00\"]"
   ],
   "metadata": {
    "collapsed": false,
    "pycharm": {
     "name": "#%%\n"
    }
   }
  },
  {
   "cell_type": "code",
   "execution_count": 15,
   "outputs": [
    {
     "data": {
      "text/plain": "                     pow_dyst  zaw_tle   pre_dmu   str_lac         sec  \\\nCzas                                                                     \n2021-04-19 00:00:00    0.5000      1.0  0.333333  0.553214  1618790400   \n2021-04-19 00:00:01    0.5000      1.0  0.333333  0.553544  1618790401   \n2021-04-19 00:00:02    0.5000      1.0  0.333333  0.553873  1618790402   \n2021-04-19 00:00:03    0.5000      1.0  0.333333  0.554204  1618790403   \n2021-04-19 00:00:04    0.5000      1.0  0.333333  0.554533  1618790404   \n...                       ...      ...       ...       ...         ...   \n2021-04-26 14:59:55    0.0625      1.0  0.333333  0.660675  1619449195   \n2021-04-26 14:59:56    0.0625      1.0  0.333333  0.660985  1619449196   \n2021-04-26 14:59:57    0.0625      1.0  0.333333  0.661295  1619449197   \n2021-04-26 14:59:58    0.0625      1.0  0.333333  0.661605  1619449198   \n2021-04-26 14:59:59    0.0625      1.0  0.333333  0.661915  1619449199   \n\n                     str_lac_sh  \nCzas                             \n2021-04-19 00:00:00    0.443324  \n2021-04-19 00:00:01    0.443362  \n2021-04-19 00:00:02    0.443399  \n2021-04-19 00:00:03    0.443437  \n2021-04-19 00:00:04    0.443453  \n...                         ...  \n2021-04-26 14:59:55    0.647381  \n2021-04-26 14:59:56    0.647518  \n2021-04-26 14:59:57    0.647654  \n2021-04-26 14:59:58    0.647791  \n2021-04-26 14:59:59    0.647927  \n\n[658800 rows x 6 columns]",
      "text/html": "<div>\n<style scoped>\n    .dataframe tbody tr th:only-of-type {\n        vertical-align: middle;\n    }\n\n    .dataframe tbody tr th {\n        vertical-align: top;\n    }\n\n    .dataframe thead th {\n        text-align: right;\n    }\n</style>\n<table border=\"1\" class=\"dataframe\">\n  <thead>\n    <tr style=\"text-align: right;\">\n      <th></th>\n      <th>pow_dyst</th>\n      <th>zaw_tle</th>\n      <th>pre_dmu</th>\n      <th>str_lac</th>\n      <th>sec</th>\n      <th>str_lac_sh</th>\n    </tr>\n    <tr>\n      <th>Czas</th>\n      <th></th>\n      <th></th>\n      <th></th>\n      <th></th>\n      <th></th>\n      <th></th>\n    </tr>\n  </thead>\n  <tbody>\n    <tr>\n      <th>2021-04-19 00:00:00</th>\n      <td>0.5000</td>\n      <td>1.0</td>\n      <td>0.333333</td>\n      <td>0.553214</td>\n      <td>1618790400</td>\n      <td>0.443324</td>\n    </tr>\n    <tr>\n      <th>2021-04-19 00:00:01</th>\n      <td>0.5000</td>\n      <td>1.0</td>\n      <td>0.333333</td>\n      <td>0.553544</td>\n      <td>1618790401</td>\n      <td>0.443362</td>\n    </tr>\n    <tr>\n      <th>2021-04-19 00:00:02</th>\n      <td>0.5000</td>\n      <td>1.0</td>\n      <td>0.333333</td>\n      <td>0.553873</td>\n      <td>1618790402</td>\n      <td>0.443399</td>\n    </tr>\n    <tr>\n      <th>2021-04-19 00:00:03</th>\n      <td>0.5000</td>\n      <td>1.0</td>\n      <td>0.333333</td>\n      <td>0.554204</td>\n      <td>1618790403</td>\n      <td>0.443437</td>\n    </tr>\n    <tr>\n      <th>2021-04-19 00:00:04</th>\n      <td>0.5000</td>\n      <td>1.0</td>\n      <td>0.333333</td>\n      <td>0.554533</td>\n      <td>1618790404</td>\n      <td>0.443453</td>\n    </tr>\n    <tr>\n      <th>...</th>\n      <td>...</td>\n      <td>...</td>\n      <td>...</td>\n      <td>...</td>\n      <td>...</td>\n      <td>...</td>\n    </tr>\n    <tr>\n      <th>2021-04-26 14:59:55</th>\n      <td>0.0625</td>\n      <td>1.0</td>\n      <td>0.333333</td>\n      <td>0.660675</td>\n      <td>1619449195</td>\n      <td>0.647381</td>\n    </tr>\n    <tr>\n      <th>2021-04-26 14:59:56</th>\n      <td>0.0625</td>\n      <td>1.0</td>\n      <td>0.333333</td>\n      <td>0.660985</td>\n      <td>1619449196</td>\n      <td>0.647518</td>\n    </tr>\n    <tr>\n      <th>2021-04-26 14:59:57</th>\n      <td>0.0625</td>\n      <td>1.0</td>\n      <td>0.333333</td>\n      <td>0.661295</td>\n      <td>1619449197</td>\n      <td>0.647654</td>\n    </tr>\n    <tr>\n      <th>2021-04-26 14:59:58</th>\n      <td>0.0625</td>\n      <td>1.0</td>\n      <td>0.333333</td>\n      <td>0.661605</td>\n      <td>1619449198</td>\n      <td>0.647791</td>\n    </tr>\n    <tr>\n      <th>2021-04-26 14:59:59</th>\n      <td>0.0625</td>\n      <td>1.0</td>\n      <td>0.333333</td>\n      <td>0.661915</td>\n      <td>1619449199</td>\n      <td>0.647927</td>\n    </tr>\n  </tbody>\n</table>\n<p>658800 rows × 6 columns</p>\n</div>"
     },
     "execution_count": 15,
     "metadata": {},
     "output_type": "execute_result"
    }
   ],
   "source": [
    "# Podział\n",
    "pivot = int(len(df) * 0.75)\n",
    "train = df.iloc[:pivot]\n",
    "test = df.iloc[pivot:]\n",
    "train"
   ],
   "metadata": {
    "collapsed": false,
    "pycharm": {
     "name": "#%%\n"
    }
   }
  },
  {
   "cell_type": "code",
   "execution_count": 21,
   "outputs": [
    {
     "name": "stdout",
     "output_type": "stream",
     "text": [
      "Epoch 1/1000\n"
     ]
    },
    {
     "ename": "ValueError",
     "evalue": "in user code:\n\n    /home/mnowak/PycharmProjects/CudoFlash/venv/lib/python3.6/site-packages/keras/engine/training.py:830 train_function  *\n        return step_function(self, iterator)\n    /home/mnowak/PycharmProjects/CudoFlash/venv/lib/python3.6/site-packages/keras/engine/training.py:813 run_step  *\n        outputs = model.train_step(data)\n    /home/mnowak/PycharmProjects/CudoFlash/venv/lib/python3.6/site-packages/keras/engine/training.py:770 train_step  *\n        y_pred = self(x, training=True)\n    /home/mnowak/PycharmProjects/CudoFlash/venv/lib/python3.6/site-packages/keras/engine/base_layer.py:989 __call__  *\n        input_spec.assert_input_compatibility(self.input_spec, inputs, self.name)\n    /home/mnowak/PycharmProjects/CudoFlash/venv/lib/python3.6/site-packages/keras/engine/input_spec.py:197 assert_input_compatibility  *\n        raise ValueError('Layer ' + layer_name + ' expects ' +\n\n    ValueError: Layer sequential_1 expects 1 input(s), but it received 4 input tensors. Inputs received: [<tf.Tensor 'ExpandDims:0' shape=(None, 1) dtype=float32>, <tf.Tensor 'ExpandDims_1:0' shape=(None, 1) dtype=float32>, <tf.Tensor 'ExpandDims_2:0' shape=(None, 1) dtype=float32>, <tf.Tensor 'ExpandDims_3:0' shape=(None, 1) dtype=float32>]\n",
     "output_type": "error",
     "traceback": [
      "\u001B[0;31m---------------------------------------------------------------------------\u001B[0m",
      "\u001B[0;31mValueError\u001B[0m                                Traceback (most recent call last)",
      "\u001B[0;32m<ipython-input-21-26328f355252>\u001B[0m in \u001B[0;36m<module>\u001B[0;34m\u001B[0m\n\u001B[1;32m     17\u001B[0m \u001B[0mmodel\u001B[0m\u001B[0;34m.\u001B[0m\u001B[0madd\u001B[0m\u001B[0;34m(\u001B[0m\u001B[0mDense\u001B[0m\u001B[0;34m(\u001B[0m\u001B[0;36m1\u001B[0m\u001B[0;34m)\u001B[0m\u001B[0;34m)\u001B[0m\u001B[0;34m\u001B[0m\u001B[0;34m\u001B[0m\u001B[0m\n\u001B[1;32m     18\u001B[0m \u001B[0mmodel\u001B[0m\u001B[0;34m.\u001B[0m\u001B[0mcompile\u001B[0m\u001B[0;34m(\u001B[0m\u001B[0mloss\u001B[0m\u001B[0;34m=\u001B[0m\u001B[0;34m\"mean_squared_error\"\u001B[0m\u001B[0;34m,\u001B[0m \u001B[0moptimizer\u001B[0m\u001B[0;34m=\u001B[0m\u001B[0;34m\"adam\"\u001B[0m\u001B[0;34m)\u001B[0m\u001B[0;34m\u001B[0m\u001B[0;34m\u001B[0m\u001B[0m\n\u001B[0;32m---> 19\u001B[0;31m \u001B[0mmodel\u001B[0m\u001B[0;34m.\u001B[0m\u001B[0mfit\u001B[0m\u001B[0;34m(\u001B[0m\u001B[0mX\u001B[0m\u001B[0;34m,\u001B[0m \u001B[0mY\u001B[0m\u001B[0;34m,\u001B[0m \u001B[0mepochs\u001B[0m\u001B[0;34m=\u001B[0m\u001B[0;36m1000\u001B[0m\u001B[0;34m,\u001B[0m \u001B[0mbatch_size\u001B[0m\u001B[0;34m=\u001B[0m\u001B[0;36m1000\u001B[0m\u001B[0;34m)\u001B[0m\u001B[0;34m\u001B[0m\u001B[0;34m\u001B[0m\u001B[0m\n\u001B[0m",
      "\u001B[0;32m~/PycharmProjects/CudoFlash/venv/lib/python3.6/site-packages/keras/engine/training.py\u001B[0m in \u001B[0;36mfit\u001B[0;34m(self, x, y, batch_size, epochs, verbose, callbacks, validation_split, validation_data, shuffle, class_weight, sample_weight, initial_epoch, steps_per_epoch, validation_steps, validation_batch_size, validation_freq, max_queue_size, workers, use_multiprocessing)\u001B[0m\n\u001B[1;32m   1156\u001B[0m                 _r=1):\n\u001B[1;32m   1157\u001B[0m               \u001B[0mcallbacks\u001B[0m\u001B[0;34m.\u001B[0m\u001B[0mon_train_batch_begin\u001B[0m\u001B[0;34m(\u001B[0m\u001B[0mstep\u001B[0m\u001B[0;34m)\u001B[0m\u001B[0;34m\u001B[0m\u001B[0;34m\u001B[0m\u001B[0m\n\u001B[0;32m-> 1158\u001B[0;31m               \u001B[0mtmp_logs\u001B[0m \u001B[0;34m=\u001B[0m \u001B[0mself\u001B[0m\u001B[0;34m.\u001B[0m\u001B[0mtrain_function\u001B[0m\u001B[0;34m(\u001B[0m\u001B[0miterator\u001B[0m\u001B[0;34m)\u001B[0m\u001B[0;34m\u001B[0m\u001B[0;34m\u001B[0m\u001B[0m\n\u001B[0m\u001B[1;32m   1159\u001B[0m               \u001B[0;32mif\u001B[0m \u001B[0mdata_handler\u001B[0m\u001B[0;34m.\u001B[0m\u001B[0mshould_sync\u001B[0m\u001B[0;34m:\u001B[0m\u001B[0;34m\u001B[0m\u001B[0;34m\u001B[0m\u001B[0m\n\u001B[1;32m   1160\u001B[0m                 \u001B[0mcontext\u001B[0m\u001B[0;34m.\u001B[0m\u001B[0masync_wait\u001B[0m\u001B[0;34m(\u001B[0m\u001B[0;34m)\u001B[0m\u001B[0;34m\u001B[0m\u001B[0;34m\u001B[0m\u001B[0m\n",
      "\u001B[0;32m~/PycharmProjects/CudoFlash/venv/lib/python3.6/site-packages/tensorflow/python/eager/def_function.py\u001B[0m in \u001B[0;36m__call__\u001B[0;34m(self, *args, **kwds)\u001B[0m\n\u001B[1;32m    887\u001B[0m \u001B[0;34m\u001B[0m\u001B[0m\n\u001B[1;32m    888\u001B[0m       \u001B[0;32mwith\u001B[0m \u001B[0mOptionalXlaContext\u001B[0m\u001B[0;34m(\u001B[0m\u001B[0mself\u001B[0m\u001B[0;34m.\u001B[0m\u001B[0m_jit_compile\u001B[0m\u001B[0;34m)\u001B[0m\u001B[0;34m:\u001B[0m\u001B[0;34m\u001B[0m\u001B[0;34m\u001B[0m\u001B[0m\n\u001B[0;32m--> 889\u001B[0;31m         \u001B[0mresult\u001B[0m \u001B[0;34m=\u001B[0m \u001B[0mself\u001B[0m\u001B[0;34m.\u001B[0m\u001B[0m_call\u001B[0m\u001B[0;34m(\u001B[0m\u001B[0;34m*\u001B[0m\u001B[0margs\u001B[0m\u001B[0;34m,\u001B[0m \u001B[0;34m**\u001B[0m\u001B[0mkwds\u001B[0m\u001B[0;34m)\u001B[0m\u001B[0;34m\u001B[0m\u001B[0;34m\u001B[0m\u001B[0m\n\u001B[0m\u001B[1;32m    890\u001B[0m \u001B[0;34m\u001B[0m\u001B[0m\n\u001B[1;32m    891\u001B[0m       \u001B[0mnew_tracing_count\u001B[0m \u001B[0;34m=\u001B[0m \u001B[0mself\u001B[0m\u001B[0;34m.\u001B[0m\u001B[0mexperimental_get_tracing_count\u001B[0m\u001B[0;34m(\u001B[0m\u001B[0;34m)\u001B[0m\u001B[0;34m\u001B[0m\u001B[0;34m\u001B[0m\u001B[0m\n",
      "\u001B[0;32m~/PycharmProjects/CudoFlash/venv/lib/python3.6/site-packages/tensorflow/python/eager/def_function.py\u001B[0m in \u001B[0;36m_call\u001B[0;34m(self, *args, **kwds)\u001B[0m\n\u001B[1;32m    931\u001B[0m       \u001B[0;31m# This is the first call of __call__, so we have to initialize.\u001B[0m\u001B[0;34m\u001B[0m\u001B[0;34m\u001B[0m\u001B[0;34m\u001B[0m\u001B[0m\n\u001B[1;32m    932\u001B[0m       \u001B[0minitializers\u001B[0m \u001B[0;34m=\u001B[0m \u001B[0;34m[\u001B[0m\u001B[0;34m]\u001B[0m\u001B[0;34m\u001B[0m\u001B[0;34m\u001B[0m\u001B[0m\n\u001B[0;32m--> 933\u001B[0;31m       \u001B[0mself\u001B[0m\u001B[0;34m.\u001B[0m\u001B[0m_initialize\u001B[0m\u001B[0;34m(\u001B[0m\u001B[0margs\u001B[0m\u001B[0;34m,\u001B[0m \u001B[0mkwds\u001B[0m\u001B[0;34m,\u001B[0m \u001B[0madd_initializers_to\u001B[0m\u001B[0;34m=\u001B[0m\u001B[0minitializers\u001B[0m\u001B[0;34m)\u001B[0m\u001B[0;34m\u001B[0m\u001B[0;34m\u001B[0m\u001B[0m\n\u001B[0m\u001B[1;32m    934\u001B[0m     \u001B[0;32mfinally\u001B[0m\u001B[0;34m:\u001B[0m\u001B[0;34m\u001B[0m\u001B[0;34m\u001B[0m\u001B[0m\n\u001B[1;32m    935\u001B[0m       \u001B[0;31m# At this point we know that the initialization is complete (or less\u001B[0m\u001B[0;34m\u001B[0m\u001B[0;34m\u001B[0m\u001B[0;34m\u001B[0m\u001B[0m\n",
      "\u001B[0;32m~/PycharmProjects/CudoFlash/venv/lib/python3.6/site-packages/tensorflow/python/eager/def_function.py\u001B[0m in \u001B[0;36m_initialize\u001B[0;34m(self, args, kwds, add_initializers_to)\u001B[0m\n\u001B[1;32m    762\u001B[0m     self._concrete_stateful_fn = (\n\u001B[1;32m    763\u001B[0m         self._stateful_fn._get_concrete_function_internal_garbage_collected(  # pylint: disable=protected-access\n\u001B[0;32m--> 764\u001B[0;31m             *args, **kwds))\n\u001B[0m\u001B[1;32m    765\u001B[0m \u001B[0;34m\u001B[0m\u001B[0m\n\u001B[1;32m    766\u001B[0m     \u001B[0;32mdef\u001B[0m \u001B[0minvalid_creator_scope\u001B[0m\u001B[0;34m(\u001B[0m\u001B[0;34m*\u001B[0m\u001B[0munused_args\u001B[0m\u001B[0;34m,\u001B[0m \u001B[0;34m**\u001B[0m\u001B[0munused_kwds\u001B[0m\u001B[0;34m)\u001B[0m\u001B[0;34m:\u001B[0m\u001B[0;34m\u001B[0m\u001B[0;34m\u001B[0m\u001B[0m\n",
      "\u001B[0;32m~/PycharmProjects/CudoFlash/venv/lib/python3.6/site-packages/tensorflow/python/eager/function.py\u001B[0m in \u001B[0;36m_get_concrete_function_internal_garbage_collected\u001B[0;34m(self, *args, **kwargs)\u001B[0m\n\u001B[1;32m   3048\u001B[0m       \u001B[0margs\u001B[0m\u001B[0;34m,\u001B[0m \u001B[0mkwargs\u001B[0m \u001B[0;34m=\u001B[0m \u001B[0;32mNone\u001B[0m\u001B[0;34m,\u001B[0m \u001B[0;32mNone\u001B[0m\u001B[0;34m\u001B[0m\u001B[0;34m\u001B[0m\u001B[0m\n\u001B[1;32m   3049\u001B[0m     \u001B[0;32mwith\u001B[0m \u001B[0mself\u001B[0m\u001B[0;34m.\u001B[0m\u001B[0m_lock\u001B[0m\u001B[0;34m:\u001B[0m\u001B[0;34m\u001B[0m\u001B[0;34m\u001B[0m\u001B[0m\n\u001B[0;32m-> 3050\u001B[0;31m       \u001B[0mgraph_function\u001B[0m\u001B[0;34m,\u001B[0m \u001B[0m_\u001B[0m \u001B[0;34m=\u001B[0m \u001B[0mself\u001B[0m\u001B[0;34m.\u001B[0m\u001B[0m_maybe_define_function\u001B[0m\u001B[0;34m(\u001B[0m\u001B[0margs\u001B[0m\u001B[0;34m,\u001B[0m \u001B[0mkwargs\u001B[0m\u001B[0;34m)\u001B[0m\u001B[0;34m\u001B[0m\u001B[0;34m\u001B[0m\u001B[0m\n\u001B[0m\u001B[1;32m   3051\u001B[0m     \u001B[0;32mreturn\u001B[0m \u001B[0mgraph_function\u001B[0m\u001B[0;34m\u001B[0m\u001B[0;34m\u001B[0m\u001B[0m\n\u001B[1;32m   3052\u001B[0m \u001B[0;34m\u001B[0m\u001B[0m\n",
      "\u001B[0;32m~/PycharmProjects/CudoFlash/venv/lib/python3.6/site-packages/tensorflow/python/eager/function.py\u001B[0m in \u001B[0;36m_maybe_define_function\u001B[0;34m(self, args, kwargs)\u001B[0m\n\u001B[1;32m   3442\u001B[0m \u001B[0;34m\u001B[0m\u001B[0m\n\u001B[1;32m   3443\u001B[0m           \u001B[0mself\u001B[0m\u001B[0;34m.\u001B[0m\u001B[0m_function_cache\u001B[0m\u001B[0;34m.\u001B[0m\u001B[0mmissed\u001B[0m\u001B[0;34m.\u001B[0m\u001B[0madd\u001B[0m\u001B[0;34m(\u001B[0m\u001B[0mcall_context_key\u001B[0m\u001B[0;34m)\u001B[0m\u001B[0;34m\u001B[0m\u001B[0;34m\u001B[0m\u001B[0m\n\u001B[0;32m-> 3444\u001B[0;31m           \u001B[0mgraph_function\u001B[0m \u001B[0;34m=\u001B[0m \u001B[0mself\u001B[0m\u001B[0;34m.\u001B[0m\u001B[0m_create_graph_function\u001B[0m\u001B[0;34m(\u001B[0m\u001B[0margs\u001B[0m\u001B[0;34m,\u001B[0m \u001B[0mkwargs\u001B[0m\u001B[0;34m)\u001B[0m\u001B[0;34m\u001B[0m\u001B[0;34m\u001B[0m\u001B[0m\n\u001B[0m\u001B[1;32m   3445\u001B[0m           \u001B[0mself\u001B[0m\u001B[0;34m.\u001B[0m\u001B[0m_function_cache\u001B[0m\u001B[0;34m.\u001B[0m\u001B[0mprimary\u001B[0m\u001B[0;34m[\u001B[0m\u001B[0mcache_key\u001B[0m\u001B[0;34m]\u001B[0m \u001B[0;34m=\u001B[0m \u001B[0mgraph_function\u001B[0m\u001B[0;34m\u001B[0m\u001B[0;34m\u001B[0m\u001B[0m\n\u001B[1;32m   3446\u001B[0m \u001B[0;34m\u001B[0m\u001B[0m\n",
      "\u001B[0;32m~/PycharmProjects/CudoFlash/venv/lib/python3.6/site-packages/tensorflow/python/eager/function.py\u001B[0m in \u001B[0;36m_create_graph_function\u001B[0;34m(self, args, kwargs, override_flat_arg_shapes)\u001B[0m\n\u001B[1;32m   3287\u001B[0m             \u001B[0marg_names\u001B[0m\u001B[0;34m=\u001B[0m\u001B[0marg_names\u001B[0m\u001B[0;34m,\u001B[0m\u001B[0;34m\u001B[0m\u001B[0;34m\u001B[0m\u001B[0m\n\u001B[1;32m   3288\u001B[0m             \u001B[0moverride_flat_arg_shapes\u001B[0m\u001B[0;34m=\u001B[0m\u001B[0moverride_flat_arg_shapes\u001B[0m\u001B[0;34m,\u001B[0m\u001B[0;34m\u001B[0m\u001B[0;34m\u001B[0m\u001B[0m\n\u001B[0;32m-> 3289\u001B[0;31m             capture_by_value=self._capture_by_value),\n\u001B[0m\u001B[1;32m   3290\u001B[0m         \u001B[0mself\u001B[0m\u001B[0;34m.\u001B[0m\u001B[0m_function_attributes\u001B[0m\u001B[0;34m,\u001B[0m\u001B[0;34m\u001B[0m\u001B[0;34m\u001B[0m\u001B[0m\n\u001B[1;32m   3291\u001B[0m         \u001B[0mfunction_spec\u001B[0m\u001B[0;34m=\u001B[0m\u001B[0mself\u001B[0m\u001B[0;34m.\u001B[0m\u001B[0mfunction_spec\u001B[0m\u001B[0;34m,\u001B[0m\u001B[0;34m\u001B[0m\u001B[0;34m\u001B[0m\u001B[0m\n",
      "\u001B[0;32m~/PycharmProjects/CudoFlash/venv/lib/python3.6/site-packages/tensorflow/python/framework/func_graph.py\u001B[0m in \u001B[0;36mfunc_graph_from_py_func\u001B[0;34m(name, python_func, args, kwargs, signature, func_graph, autograph, autograph_options, add_control_dependencies, arg_names, op_return_value, collections, capture_by_value, override_flat_arg_shapes)\u001B[0m\n\u001B[1;32m    997\u001B[0m         \u001B[0m_\u001B[0m\u001B[0;34m,\u001B[0m \u001B[0moriginal_func\u001B[0m \u001B[0;34m=\u001B[0m \u001B[0mtf_decorator\u001B[0m\u001B[0;34m.\u001B[0m\u001B[0munwrap\u001B[0m\u001B[0;34m(\u001B[0m\u001B[0mpython_func\u001B[0m\u001B[0;34m)\u001B[0m\u001B[0;34m\u001B[0m\u001B[0;34m\u001B[0m\u001B[0m\n\u001B[1;32m    998\u001B[0m \u001B[0;34m\u001B[0m\u001B[0m\n\u001B[0;32m--> 999\u001B[0;31m       \u001B[0mfunc_outputs\u001B[0m \u001B[0;34m=\u001B[0m \u001B[0mpython_func\u001B[0m\u001B[0;34m(\u001B[0m\u001B[0;34m*\u001B[0m\u001B[0mfunc_args\u001B[0m\u001B[0;34m,\u001B[0m \u001B[0;34m**\u001B[0m\u001B[0mfunc_kwargs\u001B[0m\u001B[0;34m)\u001B[0m\u001B[0;34m\u001B[0m\u001B[0;34m\u001B[0m\u001B[0m\n\u001B[0m\u001B[1;32m   1000\u001B[0m \u001B[0;34m\u001B[0m\u001B[0m\n\u001B[1;32m   1001\u001B[0m       \u001B[0;31m# invariant: `func_outputs` contains only Tensors, CompositeTensors,\u001B[0m\u001B[0;34m\u001B[0m\u001B[0;34m\u001B[0m\u001B[0;34m\u001B[0m\u001B[0m\n",
      "\u001B[0;32m~/PycharmProjects/CudoFlash/venv/lib/python3.6/site-packages/tensorflow/python/eager/def_function.py\u001B[0m in \u001B[0;36mwrapped_fn\u001B[0;34m(*args, **kwds)\u001B[0m\n\u001B[1;32m    670\u001B[0m         \u001B[0;31m# the function a weak reference to itself to avoid a reference cycle.\u001B[0m\u001B[0;34m\u001B[0m\u001B[0;34m\u001B[0m\u001B[0;34m\u001B[0m\u001B[0m\n\u001B[1;32m    671\u001B[0m         \u001B[0;32mwith\u001B[0m \u001B[0mOptionalXlaContext\u001B[0m\u001B[0;34m(\u001B[0m\u001B[0mcompile_with_xla\u001B[0m\u001B[0;34m)\u001B[0m\u001B[0;34m:\u001B[0m\u001B[0;34m\u001B[0m\u001B[0;34m\u001B[0m\u001B[0m\n\u001B[0;32m--> 672\u001B[0;31m           \u001B[0mout\u001B[0m \u001B[0;34m=\u001B[0m \u001B[0mweak_wrapped_fn\u001B[0m\u001B[0;34m(\u001B[0m\u001B[0;34m)\u001B[0m\u001B[0;34m.\u001B[0m\u001B[0m__wrapped__\u001B[0m\u001B[0;34m(\u001B[0m\u001B[0;34m*\u001B[0m\u001B[0margs\u001B[0m\u001B[0;34m,\u001B[0m \u001B[0;34m**\u001B[0m\u001B[0mkwds\u001B[0m\u001B[0;34m)\u001B[0m\u001B[0;34m\u001B[0m\u001B[0;34m\u001B[0m\u001B[0m\n\u001B[0m\u001B[1;32m    673\u001B[0m         \u001B[0;32mreturn\u001B[0m \u001B[0mout\u001B[0m\u001B[0;34m\u001B[0m\u001B[0;34m\u001B[0m\u001B[0m\n\u001B[1;32m    674\u001B[0m \u001B[0;34m\u001B[0m\u001B[0m\n",
      "\u001B[0;32m~/PycharmProjects/CudoFlash/venv/lib/python3.6/site-packages/tensorflow/python/framework/func_graph.py\u001B[0m in \u001B[0;36mwrapper\u001B[0;34m(*args, **kwargs)\u001B[0m\n\u001B[1;32m    984\u001B[0m           \u001B[0;32mexcept\u001B[0m \u001B[0mException\u001B[0m \u001B[0;32mas\u001B[0m \u001B[0me\u001B[0m\u001B[0;34m:\u001B[0m  \u001B[0;31m# pylint:disable=broad-except\u001B[0m\u001B[0;34m\u001B[0m\u001B[0;34m\u001B[0m\u001B[0m\n\u001B[1;32m    985\u001B[0m             \u001B[0;32mif\u001B[0m \u001B[0mhasattr\u001B[0m\u001B[0;34m(\u001B[0m\u001B[0me\u001B[0m\u001B[0;34m,\u001B[0m \u001B[0;34m\"ag_error_metadata\"\u001B[0m\u001B[0;34m)\u001B[0m\u001B[0;34m:\u001B[0m\u001B[0;34m\u001B[0m\u001B[0;34m\u001B[0m\u001B[0m\n\u001B[0;32m--> 986\u001B[0;31m               \u001B[0;32mraise\u001B[0m \u001B[0me\u001B[0m\u001B[0;34m.\u001B[0m\u001B[0mag_error_metadata\u001B[0m\u001B[0;34m.\u001B[0m\u001B[0mto_exception\u001B[0m\u001B[0;34m(\u001B[0m\u001B[0me\u001B[0m\u001B[0;34m)\u001B[0m\u001B[0;34m\u001B[0m\u001B[0;34m\u001B[0m\u001B[0m\n\u001B[0m\u001B[1;32m    987\u001B[0m             \u001B[0;32melse\u001B[0m\u001B[0;34m:\u001B[0m\u001B[0;34m\u001B[0m\u001B[0;34m\u001B[0m\u001B[0m\n\u001B[1;32m    988\u001B[0m               \u001B[0;32mraise\u001B[0m\u001B[0;34m\u001B[0m\u001B[0;34m\u001B[0m\u001B[0m\n",
      "\u001B[0;31mValueError\u001B[0m: in user code:\n\n    /home/mnowak/PycharmProjects/CudoFlash/venv/lib/python3.6/site-packages/keras/engine/training.py:830 train_function  *\n        return step_function(self, iterator)\n    /home/mnowak/PycharmProjects/CudoFlash/venv/lib/python3.6/site-packages/keras/engine/training.py:813 run_step  *\n        outputs = model.train_step(data)\n    /home/mnowak/PycharmProjects/CudoFlash/venv/lib/python3.6/site-packages/keras/engine/training.py:770 train_step  *\n        y_pred = self(x, training=True)\n    /home/mnowak/PycharmProjects/CudoFlash/venv/lib/python3.6/site-packages/keras/engine/base_layer.py:989 __call__  *\n        input_spec.assert_input_compatibility(self.input_spec, inputs, self.name)\n    /home/mnowak/PycharmProjects/CudoFlash/venv/lib/python3.6/site-packages/keras/engine/input_spec.py:197 assert_input_compatibility  *\n        raise ValueError('Layer ' + layer_name + ' expects ' +\n\n    ValueError: Layer sequential_1 expects 1 input(s), but it received 4 input tensors. Inputs received: [<tf.Tensor 'ExpandDims:0' shape=(None, 1) dtype=float32>, <tf.Tensor 'ExpandDims_1:0' shape=(None, 1) dtype=float32>, <tf.Tensor 'ExpandDims_2:0' shape=(None, 1) dtype=float32>, <tf.Tensor 'ExpandDims_3:0' shape=(None, 1) dtype=float32>]\n"
     ]
    }
   ],
   "source": [
    "import numpy\n",
    "import matplotlib.pyplot as plt\n",
    "import pandas\n",
    "import math\n",
    "from keras.models import Sequential\n",
    "from keras.layers import Dense\n",
    "from keras.layers import LSTM\n",
    "from sklearn.preprocessing import MinMaxScaler\n",
    "from sklearn.metrics import mean_squared_error\n",
    "\n",
    "X = [train[\"pow_dyst\"].values, train[\"zaw_tle\"].values, train[\"pre_dmu\"].values, train[\"str_lac\"].values]\n",
    "Y = train[\"str_lac_sh\"]\n",
    "\n",
    "look_back = 1000\n",
    "model = Sequential()\n",
    "model.add(LSTM(50, input_shape=(4, look_back)))\n",
    "model.add(Dense(1))\n",
    "model.compile(loss=\"mean_squared_error\", optimizer=\"adam\")\n",
    "model.fit(X, Y, epochs=1000, batch_size=1000)"
   ],
   "metadata": {
    "collapsed": false,
    "pycharm": {
     "name": "#%%\n"
    }
   }
  },
  {
   "cell_type": "code",
   "execution_count": 19,
   "outputs": [
    {
     "ename": "IndexError",
     "evalue": "tuple index out of range",
     "output_type": "error",
     "traceback": [
      "\u001B[0;31m---------------------------------------------------------------------------\u001B[0m",
      "\u001B[0;31mIndexError\u001B[0m                                Traceback (most recent call last)",
      "\u001B[0;32m<ipython-input-19-822330262913>\u001B[0m in \u001B[0;36m<module>\u001B[0;34m\u001B[0m\n\u001B[1;32m      2\u001B[0m \u001B[0mdup\u001B[0m \u001B[0;34m=\u001B[0m \u001B[0mdupa\u001B[0m\u001B[0;34m[\u001B[0m\u001B[0;36m0\u001B[0m\u001B[0;34m]\u001B[0m\u001B[0;34m\u001B[0m\u001B[0;34m\u001B[0m\u001B[0m\n\u001B[1;32m      3\u001B[0m \u001B[0mdup\u001B[0m\u001B[0;34m\u001B[0m\u001B[0;34m\u001B[0m\u001B[0m\n\u001B[0;32m----> 4\u001B[0;31m \u001B[0mdup\u001B[0m\u001B[0;34m.\u001B[0m\u001B[0mreshape\u001B[0m\u001B[0;34m(\u001B[0m\u001B[0mdup\u001B[0m\u001B[0;34m,\u001B[0m \u001B[0;34m(\u001B[0m\u001B[0mdup\u001B[0m\u001B[0;34m.\u001B[0m\u001B[0mshape\u001B[0m\u001B[0;34m[\u001B[0m\u001B[0;36m0\u001B[0m\u001B[0;34m]\u001B[0m\u001B[0;34m,\u001B[0m \u001B[0;36m1\u001B[0m \u001B[0;34m,\u001B[0m\u001B[0mdup\u001B[0m\u001B[0;34m.\u001B[0m\u001B[0mshape\u001B[0m\u001B[0;34m[\u001B[0m\u001B[0;36m1\u001B[0m\u001B[0;34m]\u001B[0m\u001B[0;34m)\u001B[0m\u001B[0;34m)\u001B[0m\u001B[0;34m\u001B[0m\u001B[0;34m\u001B[0m\u001B[0m\n\u001B[0m",
      "\u001B[0;31mIndexError\u001B[0m: tuple index out of range"
     ]
    }
   ],
   "source": [],
   "metadata": {
    "collapsed": false,
    "pycharm": {
     "name": "#%%\n"
    }
   }
  }
 ],
 "metadata": {
  "kernelspec": {
   "display_name": "Python 3",
   "language": "python",
   "name": "python3"
  },
  "language_info": {
   "codemirror_mode": {
    "name": "ipython",
    "version": 2
   },
   "file_extension": ".py",
   "mimetype": "text/x-python",
   "name": "python",
   "nbconvert_exporter": "python",
   "pygments_lexer": "ipython2",
   "version": "2.7.6"
  }
 },
 "nbformat": 4,
 "nbformat_minor": 0
}