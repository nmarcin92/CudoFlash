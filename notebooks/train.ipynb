{
 "cells": [
  {
   "cell_type": "code",
   "execution_count": 2,
   "metadata": {
    "collapsed": true
   },
   "outputs": [
    {
     "data": {
      "text/plain": "          pow_dyst  zaw_tle  pre_dmu    str_lac\n0      2700.000000     81.0     50.0  23.363603\n1      2700.000000     81.0     50.0  23.458761\n2      2700.000000     81.0     50.0  23.540884\n3      2700.000000     81.0     50.0  23.566272\n4      2700.000000     81.0     50.0  23.558922\n...            ...      ...      ...        ...\n15818  2700.000000     81.0     45.0  23.811989\n15819  3140.677966     81.0     45.0  23.688618\n15820  3165.573770     81.0     45.0  23.605392\n15821  2700.000000     81.0     45.0  23.528355\n15822  2700.000000     81.0     45.0  23.442283\n\n[15823 rows x 4 columns]",
      "text/html": "<div>\n<style scoped>\n    .dataframe tbody tr th:only-of-type {\n        vertical-align: middle;\n    }\n\n    .dataframe tbody tr th {\n        vertical-align: top;\n    }\n\n    .dataframe thead th {\n        text-align: right;\n    }\n</style>\n<table border=\"1\" class=\"dataframe\">\n  <thead>\n    <tr style=\"text-align: right;\">\n      <th></th>\n      <th>pow_dyst</th>\n      <th>zaw_tle</th>\n      <th>pre_dmu</th>\n      <th>str_lac</th>\n    </tr>\n  </thead>\n  <tbody>\n    <tr>\n      <th>0</th>\n      <td>2700.000000</td>\n      <td>81.0</td>\n      <td>50.0</td>\n      <td>23.363603</td>\n    </tr>\n    <tr>\n      <th>1</th>\n      <td>2700.000000</td>\n      <td>81.0</td>\n      <td>50.0</td>\n      <td>23.458761</td>\n    </tr>\n    <tr>\n      <th>2</th>\n      <td>2700.000000</td>\n      <td>81.0</td>\n      <td>50.0</td>\n      <td>23.540884</td>\n    </tr>\n    <tr>\n      <th>3</th>\n      <td>2700.000000</td>\n      <td>81.0</td>\n      <td>50.0</td>\n      <td>23.566272</td>\n    </tr>\n    <tr>\n      <th>4</th>\n      <td>2700.000000</td>\n      <td>81.0</td>\n      <td>50.0</td>\n      <td>23.558922</td>\n    </tr>\n    <tr>\n      <th>...</th>\n      <td>...</td>\n      <td>...</td>\n      <td>...</td>\n      <td>...</td>\n    </tr>\n    <tr>\n      <th>15818</th>\n      <td>2700.000000</td>\n      <td>81.0</td>\n      <td>45.0</td>\n      <td>23.811989</td>\n    </tr>\n    <tr>\n      <th>15819</th>\n      <td>3140.677966</td>\n      <td>81.0</td>\n      <td>45.0</td>\n      <td>23.688618</td>\n    </tr>\n    <tr>\n      <th>15820</th>\n      <td>3165.573770</td>\n      <td>81.0</td>\n      <td>45.0</td>\n      <td>23.605392</td>\n    </tr>\n    <tr>\n      <th>15821</th>\n      <td>2700.000000</td>\n      <td>81.0</td>\n      <td>45.0</td>\n      <td>23.528355</td>\n    </tr>\n    <tr>\n      <th>15822</th>\n      <td>2700.000000</td>\n      <td>81.0</td>\n      <td>45.0</td>\n      <td>23.442283</td>\n    </tr>\n  </tbody>\n</table>\n<p>15823 rows × 4 columns</p>\n</div>"
     },
     "execution_count": 2,
     "metadata": {},
     "output_type": "execute_result"
    }
   ],
   "source": [
    "import pandas as pd\n",
    "\n",
    "DATA_DIR = \"/home/mnowak/Downloads/piec\"\n",
    "MODEL_OUT = \"/home/mnowak/PycharmProjects/CudoFlash/models/rnn\"\n",
    "\n",
    "path = f\"{DATA_DIR}/data_2021-04-19.csv\"\n",
    "\n",
    "data = pd.read_csv(path).drop(columns=['Unnamed: 0'])\n",
    "data['Czas'] = pd.to_datetime(data['Czas']).dt.round(\"1min\")\n",
    "# data[\"sec\"] = data['Czas'].astype(np.int64) // 10**9\n",
    "\n",
    "\n",
    "data = data.drop(columns=[\"Nadawa_pylow\", 'Strata_pasa', 'S600', 'S500', 'S00',\n",
    "       'S100', 'Nadawa_koncentratu', 'Nadawa_1', 'Nadawa_2', 'Tlen_lanca',\n",
    "       'Tlen_procesowe', 'Powietrze_procesowe', 'Przetlenienie',\n",
    "       'Zawartosc_wegla', 'Zawartosc_siarki', 'Udzial_nadziarna',\n",
    "       'Udzial_podziarna', 'Poziom_topu', 'Kat_dystrybucji',\n",
    "       'Straty_odstojnika', 'Temperatura_zuzla', 'Drgania_kotla'])\n",
    "\n",
    "\n",
    "\n",
    "data = data.rename(columns={\"Powietrze_dystrybucyjne\": \"pow_dyst\",\n",
    "             \"Zawartosc_tlenu\": \"zaw_tle\",\n",
    "             \"Predkosc_dmuchu\": \"pre_dmu\",\n",
    "             \"Strata_laczna\": \"str_lac\"\n",
    "             })\n",
    "\n",
    "data = data.groupby(\"Czas\").agg({\n",
    "    \"pow_dyst\": \"mean\",\n",
    "    \"zaw_tle\": \"mean\",\n",
    "    \"pre_dmu\": \"mean\",\n",
    "    \"str_lac\": \"mean\"\n",
    "})\n",
    "\n",
    "data.reset_index(drop=True, inplace=True)\n",
    "\n",
    "data"
   ]
  },
  {
   "cell_type": "code",
   "execution_count": 3,
   "outputs": [
    {
     "data": {
      "text/plain": "       pow_dyst  zaw_tle   pre_dmu   str_lac\n0      0.500000      1.0  0.333333  0.557574\n1      0.500000      1.0  0.333333  0.563917\n2      0.500000      1.0  0.333333  0.569392\n3      0.500000      1.0  0.333333  0.571085\n4      0.500000      1.0  0.333333  0.570595\n...         ...      ...       ...       ...\n15818  0.500000      1.0  0.166667  0.587466\n15819  0.775424      1.0  0.166667  0.579241\n15820  0.790984      1.0  0.166667  0.573693\n15821  0.500000      1.0  0.166667  0.568557\n15822  0.500000      1.0  0.166667  0.562819\n\n[15823 rows x 4 columns]",
      "text/html": "<div>\n<style scoped>\n    .dataframe tbody tr th:only-of-type {\n        vertical-align: middle;\n    }\n\n    .dataframe tbody tr th {\n        vertical-align: top;\n    }\n\n    .dataframe thead th {\n        text-align: right;\n    }\n</style>\n<table border=\"1\" class=\"dataframe\">\n  <thead>\n    <tr style=\"text-align: right;\">\n      <th></th>\n      <th>pow_dyst</th>\n      <th>zaw_tle</th>\n      <th>pre_dmu</th>\n      <th>str_lac</th>\n    </tr>\n  </thead>\n  <tbody>\n    <tr>\n      <th>0</th>\n      <td>0.500000</td>\n      <td>1.0</td>\n      <td>0.333333</td>\n      <td>0.557574</td>\n    </tr>\n    <tr>\n      <th>1</th>\n      <td>0.500000</td>\n      <td>1.0</td>\n      <td>0.333333</td>\n      <td>0.563917</td>\n    </tr>\n    <tr>\n      <th>2</th>\n      <td>0.500000</td>\n      <td>1.0</td>\n      <td>0.333333</td>\n      <td>0.569392</td>\n    </tr>\n    <tr>\n      <th>3</th>\n      <td>0.500000</td>\n      <td>1.0</td>\n      <td>0.333333</td>\n      <td>0.571085</td>\n    </tr>\n    <tr>\n      <th>4</th>\n      <td>0.500000</td>\n      <td>1.0</td>\n      <td>0.333333</td>\n      <td>0.570595</td>\n    </tr>\n    <tr>\n      <th>...</th>\n      <td>...</td>\n      <td>...</td>\n      <td>...</td>\n      <td>...</td>\n    </tr>\n    <tr>\n      <th>15818</th>\n      <td>0.500000</td>\n      <td>1.0</td>\n      <td>0.166667</td>\n      <td>0.587466</td>\n    </tr>\n    <tr>\n      <th>15819</th>\n      <td>0.775424</td>\n      <td>1.0</td>\n      <td>0.166667</td>\n      <td>0.579241</td>\n    </tr>\n    <tr>\n      <th>15820</th>\n      <td>0.790984</td>\n      <td>1.0</td>\n      <td>0.166667</td>\n      <td>0.573693</td>\n    </tr>\n    <tr>\n      <th>15821</th>\n      <td>0.500000</td>\n      <td>1.0</td>\n      <td>0.166667</td>\n      <td>0.568557</td>\n    </tr>\n    <tr>\n      <th>15822</th>\n      <td>0.500000</td>\n      <td>1.0</td>\n      <td>0.166667</td>\n      <td>0.562819</td>\n    </tr>\n  </tbody>\n</table>\n<p>15823 rows × 4 columns</p>\n</div>"
     },
     "execution_count": 3,
     "metadata": {},
     "output_type": "execute_result"
    }
   ],
   "source": [
    "# Agregacja i normalizacja\n",
    "\n",
    "POW_DYST_NORM = {\"min\": 1900.,\"max\": 3500.}\n",
    "ZAW_TLE_NORM = {\"min\": 65., \"max\": 81.}\n",
    "PRE_DMU = { \"min\": 40.,\"max\": 70.}\n",
    "STR_LAC = { \"min\": 15.,\"max\": 30.}\n",
    "\n",
    "df = data.copy()\n",
    "df[\"pow_dyst\"] = (df[\"pow_dyst\"] - POW_DYST_NORM[\"min\"]) / (POW_DYST_NORM[\"max\"] - POW_DYST_NORM[\"min\"])\n",
    "df[\"zaw_tle\"] = (df[\"zaw_tle\"] - ZAW_TLE_NORM[\"min\"]) / (ZAW_TLE_NORM[\"max\"] - ZAW_TLE_NORM[\"min\"])\n",
    "df[\"pre_dmu\"] = (df[\"pre_dmu\"] - PRE_DMU[\"min\"]) / (PRE_DMU[\"max\"] - PRE_DMU[\"min\"])\n",
    "df[\"str_lac\"] = (df[\"str_lac\"] - STR_LAC[\"min\"]) / (STR_LAC[\"max\"] - STR_LAC[\"min\"])\n",
    "\n",
    "\n",
    "df"
   ],
   "metadata": {
    "collapsed": false,
    "pycharm": {
     "name": "#%%\n"
    }
   }
  },
  {
   "cell_type": "code",
   "execution_count": 4,
   "outputs": [],
   "source": [
    "from pandas import DataFrame\n",
    "from pandas import concat\n",
    "\n",
    "def series_to_supervised(data, n_in=1, n_out=1, dropnan=True, nms = {}):\n",
    "\t\"\"\"\n",
    "\tFrame a time series as a supervised learning dataset.\n",
    "\tArguments:\n",
    "\t\tdata: Sequence of observations as a list or NumPy array.\n",
    "\t\tn_in: Number of lag observations as input (X).\n",
    "\t\tn_out: Number of observations as output (y).\n",
    "\t\tdropnan: Boolean whether or not to drop rows with NaN values.\n",
    "\tReturns:\n",
    "\t\tPandas DataFrame of series framed for supervised learning.\n",
    "\t\"\"\"\n",
    "\tn_vars = 1 if type(data) is list else data.shape[1]\n",
    "\tdf = DataFrame(data)\n",
    "\tcols, names = list(), list()\n",
    "\t# input sequence (t-n, ... t-1)\n",
    "\tfor i in range(n_in, 0, -1):\n",
    "\t\tcols.append(df.shift(i))\n",
    "\t\tnames += [(f'{nms[j]}(t-%d)' % i) for j in range(n_vars)]\n",
    "\t# forecast sequence (t, t+1, ... t+n)\n",
    "\tfor i in range(0, n_out):\n",
    "\t\tcols.append(df.shift(-i))\n",
    "\t\tif i == 0:\n",
    "\t\t\tnames += [f'{nms[j]}(t)' for j in range(n_vars)]\n",
    "\t\telse:\n",
    "\t\t\tnames += [f'{nms[j]}(t+%d)' % i for j in range(n_vars)]\n",
    "\t# put it all together\n",
    "\tagg = concat(cols, axis=1)\n",
    "\tagg.columns = names\n",
    "\t# drop rows with NaN values\n",
    "\tif dropnan:\n",
    "\t\tagg.dropna(inplace=True)\n",
    "\treturn agg\n"
   ],
   "metadata": {
    "collapsed": false,
    "pycharm": {
     "name": "#%%\n"
    }
   }
  },
  {
   "cell_type": "code",
   "execution_count": 5,
   "outputs": [
    {
     "data": {
      "text/plain": "       pow_dyst(t-16)  zaw_tle(t-16)  pre_dmu(t-16)  pow_dyst(t-15)  \\\n16             0.5000            1.0       0.333333          0.5000   \n17             0.5000            1.0       0.333333          0.5000   \n18             0.5000            1.0       0.333333          0.5000   \n19             0.5000            1.0       0.333333          0.5000   \n20             0.5000            1.0       0.333333          0.5000   \n...               ...            ...            ...             ...   \n15218         -0.5625            0.0       0.333333         -0.5625   \n15219         -0.5625            0.0       0.333333         -0.5625   \n15220         -0.5625            0.0       0.333333         -0.5625   \n15221         -0.5625            0.0       0.333333         -0.5625   \n15222         -0.5625            0.0       0.333333         -0.5625   \n\n       zaw_tle(t-15)  pre_dmu(t-15)  pow_dyst(t-14)  zaw_tle(t-14)  \\\n16               1.0       0.333333          0.5000            1.0   \n17               1.0       0.333333          0.5000            1.0   \n18               1.0       0.333333          0.5000            1.0   \n19               1.0       0.333333          0.5000            1.0   \n20               1.0       0.333333          0.5000            1.0   \n...              ...            ...             ...            ...   \n15218            0.0       0.333333         -0.5625            0.0   \n15219            0.0       0.333333         -0.5625            0.0   \n15220            0.0       0.333333         -0.5625            0.0   \n15221            0.0       0.333333         -0.5625            0.0   \n15222            0.0       0.333333         -0.5625            0.0   \n\n       pre_dmu(t-14)  pow_dyst(t-13)  ...  str_lac(t+6)  str_lac(t+7)  \\\n16          0.333333          0.5000  ...      0.492159      0.503726   \n17          0.333333          0.5000  ...      0.503726      0.515607   \n18          0.333333          0.5000  ...      0.515607      0.524764   \n19          0.333333          0.5000  ...      0.524764      0.529138   \n20          0.333333          0.5000  ...      0.529138      0.529299   \n...              ...             ...  ...           ...           ...   \n15218       0.333333         -0.5625  ...     -0.309336     -0.310556   \n15219       0.333333         -0.5625  ...     -0.310556     -0.309707   \n15220       0.333333         -0.5625  ...     -0.309707     -0.310021   \n15221       0.333333         -0.5625  ...     -0.310021     -0.310337   \n15222       0.333333         -0.5625  ...     -0.310337     -0.311404   \n\n       str_lac(t+8)  str_lac(t+9)  str_lac(t+10)  str_lac(t+11)  \\\n16         0.515607      0.524764       0.529138       0.529299   \n17         0.524764      0.529138       0.529299       0.525824   \n18         0.529138      0.529299       0.525824       0.519643   \n19         0.529299      0.525824       0.519643       0.513570   \n20         0.525824      0.519643       0.513570       0.505238   \n...             ...           ...            ...            ...   \n15218     -0.309707     -0.310021      -0.310337      -0.311404   \n15219     -0.310021     -0.310337      -0.311404      -0.310555   \n15220     -0.310337     -0.311404      -0.310555      -0.311124   \n15221     -0.311404     -0.310555      -0.311124      -0.311059   \n15222     -0.310555     -0.311124      -0.311059      -0.311066   \n\n       str_lac(t+12)  str_lac(t+13)  str_lac(t+14)  str_lac(t+15)  \n16          0.525824       0.519643       0.513570       0.505238  \n17          0.519643       0.513570       0.505238       0.497408  \n18          0.513570       0.505238       0.497408       0.490897  \n19          0.505238       0.497408       0.490897       0.478438  \n20          0.497408       0.490897       0.478438       0.470317  \n...              ...            ...            ...            ...  \n15218      -0.310555      -0.311124      -0.311059      -0.311066  \n15219      -0.311124      -0.311059      -0.311066      -0.310559  \n15220      -0.311059      -0.311066      -0.310559      -0.311693  \n15221      -0.311066      -0.310559      -0.311693      -0.312369  \n15222      -0.310559      -0.311693      -0.312369      -0.311725  \n\n[15207 rows x 83 columns]",
      "text/html": "<div>\n<style scoped>\n    .dataframe tbody tr th:only-of-type {\n        vertical-align: middle;\n    }\n\n    .dataframe tbody tr th {\n        vertical-align: top;\n    }\n\n    .dataframe thead th {\n        text-align: right;\n    }\n</style>\n<table border=\"1\" class=\"dataframe\">\n  <thead>\n    <tr style=\"text-align: right;\">\n      <th></th>\n      <th>pow_dyst(t-16)</th>\n      <th>zaw_tle(t-16)</th>\n      <th>pre_dmu(t-16)</th>\n      <th>pow_dyst(t-15)</th>\n      <th>zaw_tle(t-15)</th>\n      <th>pre_dmu(t-15)</th>\n      <th>pow_dyst(t-14)</th>\n      <th>zaw_tle(t-14)</th>\n      <th>pre_dmu(t-14)</th>\n      <th>pow_dyst(t-13)</th>\n      <th>...</th>\n      <th>str_lac(t+6)</th>\n      <th>str_lac(t+7)</th>\n      <th>str_lac(t+8)</th>\n      <th>str_lac(t+9)</th>\n      <th>str_lac(t+10)</th>\n      <th>str_lac(t+11)</th>\n      <th>str_lac(t+12)</th>\n      <th>str_lac(t+13)</th>\n      <th>str_lac(t+14)</th>\n      <th>str_lac(t+15)</th>\n    </tr>\n  </thead>\n  <tbody>\n    <tr>\n      <th>16</th>\n      <td>0.5000</td>\n      <td>1.0</td>\n      <td>0.333333</td>\n      <td>0.5000</td>\n      <td>1.0</td>\n      <td>0.333333</td>\n      <td>0.5000</td>\n      <td>1.0</td>\n      <td>0.333333</td>\n      <td>0.5000</td>\n      <td>...</td>\n      <td>0.492159</td>\n      <td>0.503726</td>\n      <td>0.515607</td>\n      <td>0.524764</td>\n      <td>0.529138</td>\n      <td>0.529299</td>\n      <td>0.525824</td>\n      <td>0.519643</td>\n      <td>0.513570</td>\n      <td>0.505238</td>\n    </tr>\n    <tr>\n      <th>17</th>\n      <td>0.5000</td>\n      <td>1.0</td>\n      <td>0.333333</td>\n      <td>0.5000</td>\n      <td>1.0</td>\n      <td>0.333333</td>\n      <td>0.5000</td>\n      <td>1.0</td>\n      <td>0.333333</td>\n      <td>0.5000</td>\n      <td>...</td>\n      <td>0.503726</td>\n      <td>0.515607</td>\n      <td>0.524764</td>\n      <td>0.529138</td>\n      <td>0.529299</td>\n      <td>0.525824</td>\n      <td>0.519643</td>\n      <td>0.513570</td>\n      <td>0.505238</td>\n      <td>0.497408</td>\n    </tr>\n    <tr>\n      <th>18</th>\n      <td>0.5000</td>\n      <td>1.0</td>\n      <td>0.333333</td>\n      <td>0.5000</td>\n      <td>1.0</td>\n      <td>0.333333</td>\n      <td>0.5000</td>\n      <td>1.0</td>\n      <td>0.333333</td>\n      <td>0.5000</td>\n      <td>...</td>\n      <td>0.515607</td>\n      <td>0.524764</td>\n      <td>0.529138</td>\n      <td>0.529299</td>\n      <td>0.525824</td>\n      <td>0.519643</td>\n      <td>0.513570</td>\n      <td>0.505238</td>\n      <td>0.497408</td>\n      <td>0.490897</td>\n    </tr>\n    <tr>\n      <th>19</th>\n      <td>0.5000</td>\n      <td>1.0</td>\n      <td>0.333333</td>\n      <td>0.5000</td>\n      <td>1.0</td>\n      <td>0.333333</td>\n      <td>0.5000</td>\n      <td>1.0</td>\n      <td>0.333333</td>\n      <td>0.5000</td>\n      <td>...</td>\n      <td>0.524764</td>\n      <td>0.529138</td>\n      <td>0.529299</td>\n      <td>0.525824</td>\n      <td>0.519643</td>\n      <td>0.513570</td>\n      <td>0.505238</td>\n      <td>0.497408</td>\n      <td>0.490897</td>\n      <td>0.478438</td>\n    </tr>\n    <tr>\n      <th>20</th>\n      <td>0.5000</td>\n      <td>1.0</td>\n      <td>0.333333</td>\n      <td>0.5000</td>\n      <td>1.0</td>\n      <td>0.333333</td>\n      <td>0.5000</td>\n      <td>1.0</td>\n      <td>0.333333</td>\n      <td>0.5000</td>\n      <td>...</td>\n      <td>0.529138</td>\n      <td>0.529299</td>\n      <td>0.525824</td>\n      <td>0.519643</td>\n      <td>0.513570</td>\n      <td>0.505238</td>\n      <td>0.497408</td>\n      <td>0.490897</td>\n      <td>0.478438</td>\n      <td>0.470317</td>\n    </tr>\n    <tr>\n      <th>...</th>\n      <td>...</td>\n      <td>...</td>\n      <td>...</td>\n      <td>...</td>\n      <td>...</td>\n      <td>...</td>\n      <td>...</td>\n      <td>...</td>\n      <td>...</td>\n      <td>...</td>\n      <td>...</td>\n      <td>...</td>\n      <td>...</td>\n      <td>...</td>\n      <td>...</td>\n      <td>...</td>\n      <td>...</td>\n      <td>...</td>\n      <td>...</td>\n      <td>...</td>\n      <td>...</td>\n    </tr>\n    <tr>\n      <th>15218</th>\n      <td>-0.5625</td>\n      <td>0.0</td>\n      <td>0.333333</td>\n      <td>-0.5625</td>\n      <td>0.0</td>\n      <td>0.333333</td>\n      <td>-0.5625</td>\n      <td>0.0</td>\n      <td>0.333333</td>\n      <td>-0.5625</td>\n      <td>...</td>\n      <td>-0.309336</td>\n      <td>-0.310556</td>\n      <td>-0.309707</td>\n      <td>-0.310021</td>\n      <td>-0.310337</td>\n      <td>-0.311404</td>\n      <td>-0.310555</td>\n      <td>-0.311124</td>\n      <td>-0.311059</td>\n      <td>-0.311066</td>\n    </tr>\n    <tr>\n      <th>15219</th>\n      <td>-0.5625</td>\n      <td>0.0</td>\n      <td>0.333333</td>\n      <td>-0.5625</td>\n      <td>0.0</td>\n      <td>0.333333</td>\n      <td>-0.5625</td>\n      <td>0.0</td>\n      <td>0.333333</td>\n      <td>-0.5625</td>\n      <td>...</td>\n      <td>-0.310556</td>\n      <td>-0.309707</td>\n      <td>-0.310021</td>\n      <td>-0.310337</td>\n      <td>-0.311404</td>\n      <td>-0.310555</td>\n      <td>-0.311124</td>\n      <td>-0.311059</td>\n      <td>-0.311066</td>\n      <td>-0.310559</td>\n    </tr>\n    <tr>\n      <th>15220</th>\n      <td>-0.5625</td>\n      <td>0.0</td>\n      <td>0.333333</td>\n      <td>-0.5625</td>\n      <td>0.0</td>\n      <td>0.333333</td>\n      <td>-0.5625</td>\n      <td>0.0</td>\n      <td>0.333333</td>\n      <td>-0.5625</td>\n      <td>...</td>\n      <td>-0.309707</td>\n      <td>-0.310021</td>\n      <td>-0.310337</td>\n      <td>-0.311404</td>\n      <td>-0.310555</td>\n      <td>-0.311124</td>\n      <td>-0.311059</td>\n      <td>-0.311066</td>\n      <td>-0.310559</td>\n      <td>-0.311693</td>\n    </tr>\n    <tr>\n      <th>15221</th>\n      <td>-0.5625</td>\n      <td>0.0</td>\n      <td>0.333333</td>\n      <td>-0.5625</td>\n      <td>0.0</td>\n      <td>0.333333</td>\n      <td>-0.5625</td>\n      <td>0.0</td>\n      <td>0.333333</td>\n      <td>-0.5625</td>\n      <td>...</td>\n      <td>-0.310021</td>\n      <td>-0.310337</td>\n      <td>-0.311404</td>\n      <td>-0.310555</td>\n      <td>-0.311124</td>\n      <td>-0.311059</td>\n      <td>-0.311066</td>\n      <td>-0.310559</td>\n      <td>-0.311693</td>\n      <td>-0.312369</td>\n    </tr>\n    <tr>\n      <th>15222</th>\n      <td>-0.5625</td>\n      <td>0.0</td>\n      <td>0.333333</td>\n      <td>-0.5625</td>\n      <td>0.0</td>\n      <td>0.333333</td>\n      <td>-0.5625</td>\n      <td>0.0</td>\n      <td>0.333333</td>\n      <td>-0.5625</td>\n      <td>...</td>\n      <td>-0.310337</td>\n      <td>-0.311404</td>\n      <td>-0.310555</td>\n      <td>-0.311124</td>\n      <td>-0.311059</td>\n      <td>-0.311066</td>\n      <td>-0.310559</td>\n      <td>-0.311693</td>\n      <td>-0.312369</td>\n      <td>-0.311725</td>\n    </tr>\n  </tbody>\n</table>\n<p>15207 rows × 83 columns</p>\n</div>"
     },
     "execution_count": 5,
     "metadata": {},
     "output_type": "execute_result"
    }
   ],
   "source": [
    "l_names = {\n",
    "    0: \"pow_dyst\",\n",
    "    1: \"zaw_tle\",\n",
    "    2: \"pre_dmu\",\n",
    "}\n",
    "r_names = {\n",
    "    0: \"str_lac\"\n",
    "}\n",
    "\n",
    "aa = series_to_supervised(df[[\"pow_dyst\", \"zaw_tle\", \"pre_dmu\"]], 16, 1, False, l_names)\n",
    "bb = series_to_supervised(df[[\"str_lac\"]], 16, 16, False, r_names)\n",
    "\n",
    "data_new = pd.concat([aa, bb], axis=1)\n",
    "data_new = data_new.iloc[16:len(data_new)-600]\n",
    "data_new"
   ],
   "metadata": {
    "collapsed": false,
    "pycharm": {
     "name": "#%%\n"
    }
   }
  },
  {
   "cell_type": "code",
   "execution_count": 17,
   "outputs": [
    {
     "name": "stdout",
     "output_type": "stream",
     "text": [
      "(1000, 1, 82) (1000,) (14207, 1, 82) (14207,)\n"
     ]
    },
    {
     "data": {
      "text/plain": "(14207, 1, 82)"
     },
     "execution_count": 17,
     "metadata": {},
     "output_type": "execute_result"
    }
   ],
   "source": [
    "values = data_new.values\n",
    "train = values[:1000, :]\n",
    "test = values[1000:, :]\n",
    "train_X, train_y = train[:, :-1], train[:, -1]\n",
    "test_X, test_y = test[:, :-1], test[:, -1]\n",
    "train_X = train_X.reshape((train_X.shape[0], 1, train_X.shape[1]))\n",
    "test_X = test_X.reshape((test_X.shape[0], 1, test_X.shape[1]))\n",
    "print(train_X.shape, train_y.shape, test_X.shape, test_y.shape)\n",
    "\n",
    "test_X.shape"
   ],
   "metadata": {
    "collapsed": false,
    "pycharm": {
     "name": "#%%\n"
    }
   }
  },
  {
   "cell_type": "code",
   "execution_count": 6,
   "outputs": [
    {
     "name": "stdout",
     "output_type": "stream",
     "text": [
      "Epoch 1/50\n",
      "14/14 - 18s - loss: 0.2649 - val_loss: 0.0897\n",
      "Epoch 2/50\n",
      "14/14 - 0s - loss: 0.1161 - val_loss: 0.1214\n",
      "Epoch 3/50\n",
      "14/14 - 0s - loss: 0.0803 - val_loss: 0.1088\n",
      "Epoch 4/50\n",
      "14/14 - 0s - loss: 0.0615 - val_loss: 0.0723\n",
      "Epoch 5/50\n",
      "14/14 - 0s - loss: 0.0714 - val_loss: 0.0834\n",
      "Epoch 6/50\n",
      "14/14 - 0s - loss: 0.0551 - val_loss: 0.0640\n",
      "Epoch 7/50\n",
      "14/14 - 0s - loss: 0.0522 - val_loss: 0.0594\n",
      "Epoch 8/50\n",
      "14/14 - 0s - loss: 0.0476 - val_loss: 0.0586\n",
      "Epoch 9/50\n",
      "14/14 - 0s - loss: 0.0424 - val_loss: 0.0609\n",
      "Epoch 10/50\n",
      "14/14 - 0s - loss: 0.0418 - val_loss: 0.0652\n",
      "Epoch 11/50\n",
      "14/14 - 0s - loss: 0.0455 - val_loss: 0.0680\n",
      "Epoch 12/50\n",
      "14/14 - 0s - loss: 0.0460 - val_loss: 0.0656\n",
      "Epoch 13/50\n",
      "14/14 - 0s - loss: 0.0426 - val_loss: 0.0649\n",
      "Epoch 14/50\n",
      "14/14 - 0s - loss: 0.0431 - val_loss: 0.0675\n",
      "Epoch 15/50\n",
      "14/14 - 0s - loss: 0.0457 - val_loss: 0.0677\n",
      "Epoch 16/50\n",
      "14/14 - 0s - loss: 0.0441 - val_loss: 0.0690\n",
      "Epoch 17/50\n",
      "14/14 - 0s - loss: 0.0461 - val_loss: 0.0726\n",
      "Epoch 18/50\n",
      "14/14 - 0s - loss: 0.0513 - val_loss: 0.0813\n",
      "Epoch 19/50\n",
      "14/14 - 0s - loss: 0.0583 - val_loss: 0.0890\n",
      "Epoch 20/50\n",
      "14/14 - 0s - loss: 0.0654 - val_loss: 0.0725\n",
      "Epoch 21/50\n",
      "14/14 - 0s - loss: 0.0606 - val_loss: 0.0526\n",
      "Epoch 22/50\n",
      "14/14 - 0s - loss: 0.0435 - val_loss: 0.0497\n",
      "Epoch 23/50\n",
      "14/14 - 0s - loss: 0.0387 - val_loss: 0.0494\n",
      "Epoch 24/50\n",
      "14/14 - 0s - loss: 0.0389 - val_loss: 0.0501\n",
      "Epoch 25/50\n",
      "14/14 - 0s - loss: 0.0366 - val_loss: 0.0506\n",
      "Epoch 26/50\n",
      "14/14 - 0s - loss: 0.0337 - val_loss: 0.0526\n",
      "Epoch 27/50\n",
      "14/14 - 0s - loss: 0.0332 - val_loss: 0.0583\n",
      "Epoch 28/50\n",
      "14/14 - 0s - loss: 0.0361 - val_loss: 0.0574\n",
      "Epoch 29/50\n",
      "14/14 - 0s - loss: 0.0339 - val_loss: 0.0554\n",
      "Epoch 30/50\n",
      "14/14 - 0s - loss: 0.0329 - val_loss: 0.0574\n",
      "Epoch 31/50\n",
      "14/14 - 0s - loss: 0.0332 - val_loss: 0.0573\n",
      "Epoch 32/50\n",
      "14/14 - 0s - loss: 0.0329 - val_loss: 0.0564\n",
      "Epoch 33/50\n",
      "14/14 - 0s - loss: 0.0321 - val_loss: 0.0565\n",
      "Epoch 34/50\n",
      "14/14 - 0s - loss: 0.0318 - val_loss: 0.0565\n",
      "Epoch 35/50\n",
      "14/14 - 0s - loss: 0.0314 - val_loss: 0.0574\n",
      "Epoch 36/50\n",
      "14/14 - 0s - loss: 0.0311 - val_loss: 0.0555\n",
      "Epoch 37/50\n",
      "14/14 - 0s - loss: 0.0300 - val_loss: 0.0551\n",
      "Epoch 38/50\n",
      "14/14 - 0s - loss: 0.0292 - val_loss: 0.0542\n",
      "Epoch 39/50\n",
      "14/14 - 0s - loss: 0.0286 - val_loss: 0.0544\n",
      "Epoch 40/50\n",
      "14/14 - 0s - loss: 0.0284 - val_loss: 0.0530\n",
      "Epoch 41/50\n",
      "14/14 - 0s - loss: 0.0278 - val_loss: 0.0503\n",
      "Epoch 42/50\n",
      "14/14 - 0s - loss: 0.0261 - val_loss: 0.0528\n",
      "Epoch 43/50\n",
      "14/14 - 0s - loss: 0.0265 - val_loss: 0.0468\n",
      "Epoch 44/50\n",
      "14/14 - 0s - loss: 0.0244 - val_loss: 0.0465\n",
      "Epoch 45/50\n",
      "14/14 - 0s - loss: 0.0244 - val_loss: 0.0428\n",
      "Epoch 46/50\n",
      "14/14 - 0s - loss: 0.0236 - val_loss: 0.0408\n",
      "Epoch 47/50\n",
      "14/14 - 0s - loss: 0.0230 - val_loss: 0.0401\n",
      "Epoch 48/50\n",
      "14/14 - 0s - loss: 0.0229 - val_loss: 0.0419\n",
      "Epoch 49/50\n",
      "14/14 - 0s - loss: 0.0254 - val_loss: 0.0373\n",
      "Epoch 50/50\n",
      "14/14 - 0s - loss: 0.0271 - val_loss: 0.0366\n"
     ]
    },
    {
     "data": {
      "text/plain": "<Figure size 432x288 with 1 Axes>",
      "image/png": "[encoded data removed]"
     },
     "metadata": {
      "needs_background": "light"
     },
     "output_type": "display_data"
    }
   ],
   "source": [
    "from tensorflow import keras\n",
    "from keras.models import Sequential\n",
    "from keras.layers import Dense\n",
    "from keras.layers import LSTM\n",
    "import matplotlib.pyplot as pyplot\n",
    "\n",
    "model = Sequential()\n",
    "model.add(LSTM(50, input_shape=(train_X.shape[1], train_X.shape[2])))\n",
    "model.add(Dense(1))\n",
    "model.compile(loss='mae', optimizer='adam')\n",
    "# fit network\n",
    "history = model.fit(train_X, train_y, epochs=50, batch_size=72, validation_data=(test_X, test_y), verbose=2, shuffle=False)\n",
    "# plot history\n",
    "pyplot.plot(history.history['loss'], label='train')\n",
    "pyplot.plot(history.history['val_loss'], label='test')\n",
    "pyplot.legend()\n",
    "pyplot.show()"
   ],
   "metadata": {
    "collapsed": false,
    "pycharm": {
     "name": "#%%\n"
    }
   }
  },
  {
   "cell_type": "code",
   "execution_count": 7,
   "outputs": [
    {
     "name": "stdout",
     "output_type": "stream",
     "text": [
      "Test RMSE: 0.745\n"
     ]
    }
   ],
   "source": [
    "from math import sqrt\n",
    "from numpy import concatenate\n",
    "from pandas import DataFrame\n",
    "from pandas import concat\n",
    "from sklearn.metrics import mean_squared_error\n",
    "\n",
    "# make a prediction\n",
    "yhat = model.predict(test_X)\n",
    "test_X = test_X.reshape((test_X.shape[0], test_X.shape[2]))\n",
    "# invert scaling for forecast\n",
    "inv_yhat = concatenate((yhat, test_X[:, 1:]), axis=1)\n",
    "inv_yhat = inv_yhat * (STR_LAC[\"max\"] - STR_LAC[\"min\"]) + STR_LAC[\"min\"]\n",
    "inv_yhat = inv_yhat[:,0]\n",
    "# invert scaling for actual\n",
    "test_y = test_y.reshape((len(test_y), 1))\n",
    "inv_y = concatenate((test_y, test_X[:, 1:]), axis=1)\n",
    "inv_y = inv_y * (STR_LAC[\"max\"] - STR_LAC[\"min\"]) + STR_LAC[\"min\"]\n",
    "inv_y = inv_y[:,0]\n",
    "# calculate RMSE\n",
    "rmse = sqrt(mean_squared_error(inv_y, inv_yhat))\n",
    "print('Test RMSE: %.3f' % rmse)"
   ],
   "metadata": {
    "collapsed": false,
    "pycharm": {
     "name": "#%%\n"
    }
   }
  },
  {
   "cell_type": "code",
   "execution_count": 12,
   "outputs": [
    {
     "data": {
      "text/plain": "<Figure size 432x288 with 1 Axes>",
      "image/png": "[encoded data removed]"
     },
     "metadata": {
      "needs_background": "light"
     },
     "output_type": "display_data"
    }
   ],
   "source": [
    "pyplot.plot(inv_y[40:200], \"r\")\n",
    "pyplot.plot(inv_yhat[40:200], \"b\")\n",
    "pyplot.show()"
   ],
   "metadata": {
    "collapsed": false,
    "pycharm": {
     "name": "#%%\n"
    }
   }
  },
  {
   "cell_type": "code",
   "execution_count": 18,
   "outputs": [
    {
     "name": "stderr",
     "output_type": "stream",
     "text": [
      "WARNING:absl:Found untraced functions such as lstm_cell_1_layer_call_and_return_conditional_losses, lstm_cell_1_layer_call_fn, lstm_cell_1_layer_call_fn, lstm_cell_1_layer_call_and_return_conditional_losses, lstm_cell_1_layer_call_and_return_conditional_losses while saving (showing 5 of 5). These functions will not be directly callable after loading.\n"
     ]
    },
    {
     "name": "stdout",
     "output_type": "stream",
     "text": [
      "INFO:tensorflow:Assets written to: /home/mnowak/PycharmProjects/CudoFlash/out/assets\n"
     ]
    },
    {
     "name": "stderr",
     "output_type": "stream",
     "text": [
      "INFO:tensorflow:Assets written to: /home/mnowak/PycharmProjects/CudoFlash/out/assets\n"
     ]
    }
   ],
   "source": [
    "model.save(MODEL_OUT)\n"
   ],
   "metadata": {
    "collapsed": false,
    "pycharm": {
     "name": "#%%\n"
    }
   }
  },
  {
   "cell_type": "code",
   "execution_count": 20,
   "outputs": [
    {
     "data": {
      "text/plain": "array([[0.5       , 1.        , 0.33333333, 0.5       , 1.        ,\n        0.33333333, 0.5       , 1.        , 0.33333333, 0.5       ,\n        1.        , 0.33333333, 0.5       , 1.        , 0.33333333,\n        0.5       , 1.        , 0.33333333, 0.5       , 1.        ,\n        0.33333333, 0.5       , 1.        , 0.33333333, 0.5       ,\n        1.        , 0.33333333, 0.5       , 1.        , 0.33333333,\n        0.5       , 1.        , 0.33333333, 0.96186441, 1.        ,\n        0.33333333, 0.5942623 , 1.        , 0.33333333, 0.5       ,\n        1.        , 0.33333333, 0.5       , 1.        , 0.33333333,\n        0.5       , 1.        , 0.33333333, 0.5       , 1.        ,\n        0.33333333, 0.5575735 , 0.56391738, 0.56939228, 0.57108478,\n        0.57059481, 0.56384293, 0.55546619, 0.54483481, 0.53149288,\n        0.51672566, 0.5023793 , 0.48594279, 0.4710405 , 0.45771648,\n        0.44826734, 0.44215476, 0.44229602, 0.44359491, 0.44838863,\n        0.45712322, 0.46717312, 0.47889133, 0.49215889, 0.50372556,\n        0.51560745, 0.52476372, 0.52913817, 0.52929945, 0.52582391,\n        0.51964263, 0.51357041]])"
     },
     "execution_count": 20,
     "metadata": {},
     "output_type": "execute_result"
    }
   ],
   "source": [
    "\n",
    "train_X[0]"
   ],
   "metadata": {
    "collapsed": false,
    "pycharm": {
     "name": "#%%\n"
    }
   }
  },
  {
   "cell_type": "code",
   "execution_count": 23,
   "outputs": [
    {
     "data": {
      "text/plain": "array([[0.5       , 1.        , 0.33333333, 0.5       , 1.        ,\n        0.33333333, 0.5       , 1.        , 0.33333333, 0.5       ,\n        1.        , 0.33333333, 0.5       , 1.        , 0.33333333,\n        0.5       , 1.        , 0.33333333, 0.31813525, 1.        ,\n        0.33333333, 0.1875    , 1.        , 0.33333333, 0.1875    ,\n        1.        , 0.33333333, 0.1875    , 1.        , 0.33333333,\n        0.1875    , 1.        , 0.33333333, 0.1875    , 1.        ,\n        0.33333333, 0.1875    , 1.        , 0.33333333, 0.49735169,\n        1.        , 0.33333333, 0.5       , 1.        , 0.33333333,\n        0.5       , 1.        , 0.33333333, 0.5       , 1.        ,\n        0.33333333, 0.44229602, 0.44359491, 0.44838863, 0.45712322,\n        0.46717312, 0.47889133, 0.49215889, 0.50372556, 0.51560745,\n        0.52476372, 0.52913817, 0.52929945, 0.52582391, 0.51964263,\n        0.51357041, 0.50523842, 0.49740808, 0.49089683, 0.47843831,\n        0.47031688, 0.45894506, 0.45088889, 0.44068171, 0.43309257,\n        0.4315533 , 0.43351652, 0.43816345, 0.44536682, 0.45292717,\n        0.45602231, 0.45755672]])"
     },
     "execution_count": 23,
     "metadata": {},
     "output_type": "execute_result"
    }
   ],
   "source": [
    "train_X[16]"
   ],
   "metadata": {
    "collapsed": false,
    "pycharm": {
     "name": "#%%\n"
    }
   }
  }
 ],
 "metadata": {
  "kernelspec": {
   "display_name": "Python 3",
   "language": "python",
   "name": "python3"
  },
  "language_info": {
   "codemirror_mode": {
    "name": "ipython",
    "version": 2
   },
   "file_extension": ".py",
   "mimetype": "text/x-python",
   "name": "python",
   "nbconvert_exporter": "python",
   "pygments_lexer": "ipython2",
   "version": "2.7.6"
  }
 },
 "nbformat": 4,
 "nbformat_minor": 0
}